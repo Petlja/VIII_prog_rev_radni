{
 "cells": [
  {
   "cell_type": "markdown",
   "id": "c7fee49e-f154-4ffd-bd62-787220ed88bc",
   "metadata": {},
   "source": [
    "# Основе обраде и приказа табеларних података"
   ]
  },
  {
   "cell_type": "markdown",
   "id": "8a213138-11b7-4b17-b497-43a30e56fa05",
   "metadata": {},
   "source": [
    "Обраду, анализу и графички приказ података је тешко раздвојити. Све то углавном иде паралелно. У Пајтону постоји неколико најчешће коришћених библиотека које су усаглашене тако да објекти које користимо за обраду података имају функције за цртање, а функције за цртање враћају табеле и серије. Зато је то овде једна лекција."
   ]
  },
  {
   "cell_type": "markdown",
   "id": "b3a0ed7d-8592-4083-b504-eec3a95c9aa8",
   "metadata": {},
   "source": [
    "## Обрада табеларних података"
   ]
  },
  {
   "cell_type": "markdown",
   "id": "708d9541-f2ad-476a-9325-7f6a7a919ecb",
   "metadata": {},
   "source": [
    "Много тога за шта су нам потребни програмерско знање и труд при обради података у листама постаје једноставна примена готових функција када податке спакујемо у _DataFrame_. Библиотека _pandas_ омогућава да рад са табелама буде једноставан, брз и ефикасан. "
   ]
  },
  {
   "cell_type": "markdown",
   "id": "9c3c04bd-ece8-4aa5-876b-fb3f0d945bfd",
   "metadata": {},
   "source": [
    "### Учитавање табеле из датотеке"
   ]
  },
  {
   "cell_type": "markdown",
   "id": "50deaeae-433a-4c39-8bbc-085cd58f2d57",
   "metadata": {},
   "source": [
    "Податке најчешће чувамо у табелама. Чак су и базе података само колекције различитих табела. За поновну употребу табеле снимамо у датотеке (или фајлове, како их понекад зовемо). Те снимљене табеле касније учитавамо по потреби. Уобичајени формат датотека за снимање табела је CSV (енгл. _comma separated value_, тј. вредности одвојене зарезом). Библиотека _pandas_ има функције за учитавање и снимање табела. За учитавање користимо функцију `pd.read_csv()`. Aргумент ове функције је стринг са локацијом и називом датотеке, нпр. \"data/countries.csv\". Ова датотека се не налази у Пајтоновом радном директоријуму већ у поддиректоријуму _data_, због чега је потребно да то напишемо и да назив директоријума и датотеке раздвојимо косом цртом. Учитаћемо сада баш ту датотеку.  "
   ]
  },
  {
   "cell_type": "code",
   "execution_count": 1,
   "id": "a105f1b8-f8df-4b03-a233-2d6f9b0624e5",
   "metadata": {},
   "outputs": [],
   "source": [
    "import pandas as pd                # prvo uvozimo pandas biblioteku\n",
    "import matplotlib.pyplot as plt    # i biblioteku za crtanje grafika"
   ]
  },
  {
   "cell_type": "code",
   "execution_count": 2,
   "id": "62deedbb-5db3-41c6-9b68-fe121f47f65d",
   "metadata": {},
   "outputs": [],
   "source": [
    "dt = pd.read_csv('data/countries.csv')"
   ]
  },
  {
   "cell_type": "markdown",
   "id": "d64d8f53-6519-4118-adec-785e0a09d24a",
   "metadata": {},
   "source": [
    "При позивању функција из одређене библиотеке потребно је да наведемо ознаке библиотека. Зато није довољно да напишемо `read_csv()` већ морамо `pd.read_csv()`. При увожењу библиотека ми смо нагласили да ћемо користити скраћена имена уместо пуних. Користићемо `pd` уместо `pandas` и `plt` уместо `matplotlib.pyplot` што ће нам олакшати писање кôда."
   ]
  },
  {
   "cell_type": "markdown",
   "id": "bcd0724b-8577-46af-a4a2-dedd1f09ef6a",
   "metadata": {},
   "source": [
    "Садржај датотеке смо учитали и сместили у табелу (тачније променљиву типа _dataframe_) `dt`. Да бисмо видели шта је учитано, згодно је да прикажемо на екрану заглавље те табеле са првих неколико редова. За то нам служи функција `.head()`."
   ]
  },
  {
   "cell_type": "code",
   "execution_count": 3,
   "id": "335abe8a-6968-4028-9c3c-abc684c34219",
   "metadata": {},
   "outputs": [
    {
     "data": {
      "text/html": [
       "<div>\n",
       "<style scoped>\n",
       "    .dataframe tbody tr th:only-of-type {\n",
       "        vertical-align: middle;\n",
       "    }\n",
       "\n",
       "    .dataframe tbody tr th {\n",
       "        vertical-align: top;\n",
       "    }\n",
       "\n",
       "    .dataframe thead th {\n",
       "        text-align: right;\n",
       "    }\n",
       "</style>\n",
       "<table border=\"1\" class=\"dataframe\">\n",
       "  <thead>\n",
       "    <tr style=\"text-align: right;\">\n",
       "      <th></th>\n",
       "      <th>Country</th>\n",
       "      <th>Continent</th>\n",
       "      <th>Population</th>\n",
       "      <th>Area</th>\n",
       "    </tr>\n",
       "  </thead>\n",
       "  <tbody>\n",
       "    <tr>\n",
       "      <th>0</th>\n",
       "      <td>Afghanistan</td>\n",
       "      <td>Asia</td>\n",
       "      <td>31056997</td>\n",
       "      <td>647500</td>\n",
       "    </tr>\n",
       "    <tr>\n",
       "      <th>1</th>\n",
       "      <td>Albania</td>\n",
       "      <td>Europe</td>\n",
       "      <td>3581655</td>\n",
       "      <td>28748</td>\n",
       "    </tr>\n",
       "    <tr>\n",
       "      <th>2</th>\n",
       "      <td>Algeria</td>\n",
       "      <td>Africa</td>\n",
       "      <td>32930091</td>\n",
       "      <td>2381740</td>\n",
       "    </tr>\n",
       "    <tr>\n",
       "      <th>3</th>\n",
       "      <td>American Samoa</td>\n",
       "      <td>Oceania</td>\n",
       "      <td>57794</td>\n",
       "      <td>199</td>\n",
       "    </tr>\n",
       "    <tr>\n",
       "      <th>4</th>\n",
       "      <td>Andorra</td>\n",
       "      <td>Europe</td>\n",
       "      <td>71201</td>\n",
       "      <td>468</td>\n",
       "    </tr>\n",
       "  </tbody>\n",
       "</table>\n",
       "</div>"
      ],
      "text/plain": [
       "          Country Continent  Population     Area\n",
       "0     Afghanistan      Asia    31056997   647500\n",
       "1         Albania    Europe     3581655    28748\n",
       "2         Algeria    Africa    32930091  2381740\n",
       "3  American Samoa   Oceania       57794      199\n",
       "4         Andorra    Europe       71201      468"
      ]
     },
     "execution_count": 3,
     "metadata": {},
     "output_type": "execute_result"
    }
   ],
   "source": [
    "dt.head()"
   ]
  },
  {
   "cell_type": "markdown",
   "id": "cea20cb8-1b57-4004-bfea-ab46ee9e39a7",
   "metadata": {},
   "source": [
    "Видимо да су државе наведене по редовима, а да по колонама имамо основне податке о тим државама. У колони _Country_ је име државе, _Continent_ означава континент на ком се налази, _Population_ број становника, а _Area_ површину државе у квадратним километрима. Називе свих колона можемо да добијемо помоћу `dt.columns`."
   ]
  },
  {
   "cell_type": "code",
   "execution_count": 4,
   "id": "fff47c26-915d-41d5-954c-4edb9dddf351",
   "metadata": {},
   "outputs": [
    {
     "data": {
      "text/plain": [
       "Index(['Country', 'Continent', 'Population', 'Area'], dtype='object')"
      ]
     },
     "execution_count": 4,
     "metadata": {},
     "output_type": "execute_result"
    }
   ],
   "source": [
    "dt.columns"
   ]
  },
  {
   "cell_type": "markdown",
   "id": "7101b5f4-4f5e-48a3-a3af-29e67cfcebfa",
   "metadata": {},
   "source": [
    "Вредности које се налазе у одређеној колони се позивају тако што после имена табеле у угластим заграда наведемо име колоне под једноструким или двоструким наводницима. Да бисмо приказали колону са именима држава, написаћемо `dt['Country']` или `dt[\"Country\"]`."
   ]
  },
  {
   "cell_type": "code",
   "execution_count": 5,
   "id": "30b9c5c8-3db3-4e79-9a29-f82b032eeae0",
   "metadata": {},
   "outputs": [
    {
     "data": {
      "text/plain": [
       "0         Afghanistan\n",
       "1             Albania\n",
       "2             Algeria\n",
       "3      American Samoa\n",
       "4             Andorra\n",
       "            ...      \n",
       "222         West Bank\n",
       "223    Western Sahara\n",
       "224             Yemen\n",
       "225            Zambia\n",
       "226          Zimbabwe\n",
       "Name: Country, Length: 227, dtype: object"
      ]
     },
     "execution_count": 5,
     "metadata": {},
     "output_type": "execute_result"
    }
   ],
   "source": [
    "dt['Country']"
   ]
  },
  {
   "cell_type": "markdown",
   "id": "6922b12e-0ecb-4b9e-86a4-86bda40fa5c2",
   "metadata": {},
   "source": [
    "Ако хоћете да видите само део ове листе, користите слајсове. Са `[:10]` ћете нпр. добити првих 10, а са `[10:20]` других 10 елемената колоне."
   ]
  },
  {
   "cell_type": "code",
   "execution_count": 6,
   "id": "ec21ca65-8501-4e24-bff8-95af226a747a",
   "metadata": {},
   "outputs": [
    {
     "data": {
      "text/plain": [
       "10           Aruba\n",
       "11       Australia\n",
       "12         Austria\n",
       "13      Azerbaijan\n",
       "14    Bahamas, The\n",
       "15         Bahrain\n",
       "16      Bangladesh\n",
       "17        Barbados\n",
       "18         Belarus\n",
       "19         Belgium\n",
       "Name: Country, dtype: object"
      ]
     },
     "execution_count": 6,
     "metadata": {},
     "output_type": "execute_result"
    }
   ],
   "source": [
    "dt['Country'][10:20]"
   ]
  },
  {
   "cell_type": "markdown",
   "id": "4edef112-7be6-47b4-ac6e-1fc227c0f725",
   "metadata": {},
   "source": [
    "### Сортирање"
   ]
  },
  {
   "cell_type": "markdown",
   "id": "eb4161ad-b920-401f-b052-c0b79e97f5aa",
   "metadata": {},
   "source": [
    "Библиотека _pandas_ има прегршт корисних функција за рад са табелама и њиховим колонама. Функција `.sort_values()` сортира све вредности у одређеној колони и прерасподељује садржај осталих колона у складу са тим. Ако хоћемо да видимо које то државе имају најмањи и највећи број становника, можемо да сортирамо вредности по тој колони и погледамо које се државе налази на почетку и крају табеле."
   ]
  },
  {
   "cell_type": "code",
   "execution_count": 7,
   "id": "6e67c879-a079-42cc-bdbc-acc804db2e25",
   "metadata": {},
   "outputs": [
    {
     "data": {
      "text/html": [
       "<div>\n",
       "<style scoped>\n",
       "    .dataframe tbody tr th:only-of-type {\n",
       "        vertical-align: middle;\n",
       "    }\n",
       "\n",
       "    .dataframe tbody tr th {\n",
       "        vertical-align: top;\n",
       "    }\n",
       "\n",
       "    .dataframe thead th {\n",
       "        text-align: right;\n",
       "    }\n",
       "</style>\n",
       "<table border=\"1\" class=\"dataframe\">\n",
       "  <thead>\n",
       "    <tr style=\"text-align: right;\">\n",
       "      <th></th>\n",
       "      <th>Country</th>\n",
       "      <th>Continent</th>\n",
       "      <th>Population</th>\n",
       "      <th>Area</th>\n",
       "    </tr>\n",
       "  </thead>\n",
       "  <tbody>\n",
       "    <tr>\n",
       "      <th>174</th>\n",
       "      <td>St Pierre &amp; Miquelon</td>\n",
       "      <td>North America</td>\n",
       "      <td>7026</td>\n",
       "      <td>242</td>\n",
       "    </tr>\n",
       "    <tr>\n",
       "      <th>171</th>\n",
       "      <td>Saint Helena</td>\n",
       "      <td>Africa</td>\n",
       "      <td>7502</td>\n",
       "      <td>413</td>\n",
       "    </tr>\n",
       "    <tr>\n",
       "      <th>140</th>\n",
       "      <td>Montserrat</td>\n",
       "      <td>South America</td>\n",
       "      <td>9439</td>\n",
       "      <td>102</td>\n",
       "    </tr>\n",
       "    <tr>\n",
       "      <th>209</th>\n",
       "      <td>Tuvalu</td>\n",
       "      <td>Oceania</td>\n",
       "      <td>11810</td>\n",
       "      <td>26</td>\n",
       "    </tr>\n",
       "    <tr>\n",
       "      <th>144</th>\n",
       "      <td>Nauru</td>\n",
       "      <td>Oceania</td>\n",
       "      <td>13287</td>\n",
       "      <td>21</td>\n",
       "    </tr>\n",
       "    <tr>\n",
       "      <th>...</th>\n",
       "      <td>...</td>\n",
       "      <td>...</td>\n",
       "      <td>...</td>\n",
       "      <td>...</td>\n",
       "    </tr>\n",
       "    <tr>\n",
       "      <th>27</th>\n",
       "      <td>Brazil</td>\n",
       "      <td>South America</td>\n",
       "      <td>188078227</td>\n",
       "      <td>8511965</td>\n",
       "    </tr>\n",
       "    <tr>\n",
       "      <th>95</th>\n",
       "      <td>Indonesia</td>\n",
       "      <td>Asia</td>\n",
       "      <td>245452739</td>\n",
       "      <td>1919440</td>\n",
       "    </tr>\n",
       "    <tr>\n",
       "      <th>214</th>\n",
       "      <td>United States</td>\n",
       "      <td>North America</td>\n",
       "      <td>298444215</td>\n",
       "      <td>9631420</td>\n",
       "    </tr>\n",
       "    <tr>\n",
       "      <th>94</th>\n",
       "      <td>India</td>\n",
       "      <td>Asia</td>\n",
       "      <td>1095351995</td>\n",
       "      <td>3287590</td>\n",
       "    </tr>\n",
       "    <tr>\n",
       "      <th>42</th>\n",
       "      <td>China</td>\n",
       "      <td>Asia</td>\n",
       "      <td>1313973713</td>\n",
       "      <td>9596960</td>\n",
       "    </tr>\n",
       "  </tbody>\n",
       "</table>\n",
       "<p>227 rows × 4 columns</p>\n",
       "</div>"
      ],
      "text/plain": [
       "                  Country      Continent  Population     Area\n",
       "174  St Pierre & Miquelon  North America        7026      242\n",
       "171          Saint Helena         Africa        7502      413\n",
       "140            Montserrat  South America        9439      102\n",
       "209                Tuvalu        Oceania       11810       26\n",
       "144                 Nauru        Oceania       13287       21\n",
       "..                    ...            ...         ...      ...\n",
       "27                 Brazil  South America   188078227  8511965\n",
       "95              Indonesia           Asia   245452739  1919440\n",
       "214         United States  North America   298444215  9631420\n",
       "94                  India           Asia  1095351995  3287590\n",
       "42                  China           Asia  1313973713  9596960\n",
       "\n",
       "[227 rows x 4 columns]"
      ]
     },
     "execution_count": 7,
     "metadata": {},
     "output_type": "execute_result"
    }
   ],
   "source": [
    "dt.sort_values('Population')"
   ]
  },
  {
   "cell_type": "markdown",
   "id": "82968032-c68f-40cd-a926-feba846e22ca",
   "metadata": {},
   "source": [
    "Табеле са великим бројем редова нису прегледне чак ни када их сортирамо. Зато је пожељно да направимо графички приказ који би нам помогао у тумачењу података. Овде ћемо дати примере два типа дијаграма (стубични дијаграм и хистограм) за приказ колона са бројем становника и површином држава. "
   ]
  },
  {
   "cell_type": "markdown",
   "id": "aa69a4a2-ea30-4223-959b-5b4886e53d3d",
   "metadata": {},
   "source": [
    "Прво дајемо стубични дијаграм. Аргументи функције су ознаке стубића (име државе) и дужина стубића (број становника). Пошто држава у табели има преко 200, тешко је направити прегледан график са свим државама. Зато смо узели само двадесет држава са највећим бројем становника. Због прегледности исписа згодније нам је да стубићи буду хоризонтални. Зато користимо функцију `barh()` уместо `bar()`. Пробајте и са `bar()` да видите како би изгледало."
   ]
  },
  {
   "cell_type": "code",
   "execution_count": 8,
   "id": "1cb8b1ea-6665-4113-9b95-d17e01a345fc",
   "metadata": {},
   "outputs": [
    {
     "data": {
      "text/plain": [
       "<BarContainer object of 20 artists>"
      ]
     },
     "execution_count": 8,
     "metadata": {},
     "output_type": "execute_result"
    },
    {
     "data": {
      "image/png": "[encoded data removed]",
      "text/plain": [
       "<Figure size 432x288 with 1 Axes>"
      ]
     },
     "metadata": {
      "needs_background": "light"
     },
     "output_type": "display_data"
    }
   ],
   "source": [
    "spd=dt.sort_values('Population')               # sortiramo tabelu po gustini naseljenosti i dodeljujemo je novoj tabeli\n",
    "spd20=spd[-20:]                                # zbog preglednosti, pomoću slajsa, izdvajamo samo poslednjih 20 redova\n",
    "plt.barh(spd20['Country'],spd20['Population']) # crtamo horizontalni stubični dijagram "
   ]
  },
  {
   "cell_type": "markdown",
   "id": "f17c57c2-2767-4c63-99fc-3a14ad956c7b",
   "metadata": {},
   "source": [
    "Други важан графикон за приказ расподеле података је хистограм. Он нам даје приказ броја држава по одређеним интервалима вредности за површину држава. Функција `.hist()` дели интервал од најмање до највеће вредности на десет једнаких под-интервала уколико не наведемо конкретан број као други аргумент функције. У овом примеру распон од 0 до 20 милиона km² (што задајемо са `range=(0,2e7)`) делимо на 20 једнаких интервала и пребројавамо колико држава има у сваком од њих. У првом интервалу, од 0 до 100 000 квадратних килoмeтара, има скоро 200 држава. И Србија је међу њима. Ретке су оне које имају површину већу од 300 000 km²."
   ]
  },
  {
   "cell_type": "code",
   "execution_count": 9,
   "id": "a43b5969-5b18-4eff-98ba-5c30d2b6f181",
   "metadata": {},
   "outputs": [
    {
     "data": {
      "image/png": "[encoded data removed]",
      "text/plain": [
       "<Figure size 432x288 with 1 Axes>"
      ]
     },
     "metadata": {
      "needs_background": "light"
     },
     "output_type": "display_data"
    }
   ],
   "source": [
    "plt.hist(spd['Area'],20,range=(0,2e7))\n",
    "plt.grid()                              # crtanje mreže na grafiku"
   ]
  },
  {
   "cell_type": "markdown",
   "id": "abb2a821-0676-44df-8801-bec437e16a11",
   "metadata": {},
   "source": [
    "### Филтрирање табеле"
   ]
  },
  {
   "cell_type": "markdown",
   "id": "259e962f-9695-4128-bff3-989a6db3aa62",
   "metadata": {},
   "source": [
    "Филтрирање значи да од целе табеле желимо да издвојимо само оне редове који нас интересују. За филтрирање података у табели користимо критеријуме, односно логичке исказе као што је нпр. `dt['Continent']==\"North America\"`. Овде проверавамо које су вредности у колони `dt['Continent']` једнаке стрингу `\"North America\"`. У угласте заграде после назива табеле треба унети тражени критеријум. На тај начин од целе почетне табеле издвајамо само онај део табеле где је критеријум испуњен."
   ]
  },
  {
   "cell_type": "markdown",
   "id": "db41fb27-fc8d-49f9-9547-3600f0a5d073",
   "metadata": {},
   "source": [
    "На пример, овако можемо да издвојимо само државе које се налазе у Северној Америци."
   ]
  },
  {
   "cell_type": "code",
   "execution_count": 10,
   "id": "00f5a26f-135d-40cb-872f-2119738a026d",
   "metadata": {},
   "outputs": [
    {
     "data": {
      "text/html": [
       "<div>\n",
       "<style scoped>\n",
       "    .dataframe tbody tr th:only-of-type {\n",
       "        vertical-align: middle;\n",
       "    }\n",
       "\n",
       "    .dataframe tbody tr th {\n",
       "        vertical-align: top;\n",
       "    }\n",
       "\n",
       "    .dataframe thead th {\n",
       "        text-align: right;\n",
       "    }\n",
       "</style>\n",
       "<table border=\"1\" class=\"dataframe\">\n",
       "  <thead>\n",
       "    <tr style=\"text-align: right;\">\n",
       "      <th></th>\n",
       "      <th>Country</th>\n",
       "      <th>Continent</th>\n",
       "      <th>Population</th>\n",
       "      <th>Area</th>\n",
       "    </tr>\n",
       "  </thead>\n",
       "  <tbody>\n",
       "    <tr>\n",
       "      <th>22</th>\n",
       "      <td>Bermuda</td>\n",
       "      <td>North America</td>\n",
       "      <td>65773</td>\n",
       "      <td>53</td>\n",
       "    </tr>\n",
       "    <tr>\n",
       "      <th>36</th>\n",
       "      <td>Canada</td>\n",
       "      <td>North America</td>\n",
       "      <td>33098932</td>\n",
       "      <td>9984670</td>\n",
       "    </tr>\n",
       "    <tr>\n",
       "      <th>80</th>\n",
       "      <td>Greenland</td>\n",
       "      <td>North America</td>\n",
       "      <td>56361</td>\n",
       "      <td>2166086</td>\n",
       "    </tr>\n",
       "    <tr>\n",
       "      <th>174</th>\n",
       "      <td>St Pierre &amp; Miquelon</td>\n",
       "      <td>North America</td>\n",
       "      <td>7026</td>\n",
       "      <td>242</td>\n",
       "    </tr>\n",
       "    <tr>\n",
       "      <th>214</th>\n",
       "      <td>United States</td>\n",
       "      <td>North America</td>\n",
       "      <td>298444215</td>\n",
       "      <td>9631420</td>\n",
       "    </tr>\n",
       "  </tbody>\n",
       "</table>\n",
       "</div>"
      ],
      "text/plain": [
       "                  Country      Continent  Population     Area\n",
       "22                Bermuda  North America       65773       53\n",
       "36                 Canada  North America    33098932  9984670\n",
       "80              Greenland  North America       56361  2166086\n",
       "174  St Pierre & Miquelon  North America        7026      242\n",
       "214         United States  North America   298444215  9631420"
      ]
     },
     "execution_count": 10,
     "metadata": {},
     "output_type": "execute_result"
    }
   ],
   "source": [
    "dt[dt['Continent']==\"North America\"]"
   ]
  },
  {
   "cell_type": "markdown",
   "id": "7a88248e-1470-4ece-af9d-8efe6b013833",
   "metadata": {},
   "source": [
    "Слично можемо да издвојимо све државе са мање од 20000 становника. Шта мислите колико их има?"
   ]
  },
  {
   "cell_type": "code",
   "execution_count": 11,
   "id": "f5cf3f4c-be51-4d7c-9acd-651c8a028b04",
   "metadata": {},
   "outputs": [
    {
     "data": {
      "text/html": [
       "<div>\n",
       "<style scoped>\n",
       "    .dataframe tbody tr th:only-of-type {\n",
       "        vertical-align: middle;\n",
       "    }\n",
       "\n",
       "    .dataframe tbody tr th {\n",
       "        vertical-align: top;\n",
       "    }\n",
       "\n",
       "    .dataframe thead th {\n",
       "        text-align: right;\n",
       "    }\n",
       "</style>\n",
       "<table border=\"1\" class=\"dataframe\">\n",
       "  <thead>\n",
       "    <tr style=\"text-align: right;\">\n",
       "      <th></th>\n",
       "      <th>Country</th>\n",
       "      <th>Continent</th>\n",
       "      <th>Population</th>\n",
       "      <th>Area</th>\n",
       "    </tr>\n",
       "  </thead>\n",
       "  <tbody>\n",
       "    <tr>\n",
       "      <th>6</th>\n",
       "      <td>Anguilla</td>\n",
       "      <td>South America</td>\n",
       "      <td>13477</td>\n",
       "      <td>102</td>\n",
       "    </tr>\n",
       "    <tr>\n",
       "      <th>140</th>\n",
       "      <td>Montserrat</td>\n",
       "      <td>South America</td>\n",
       "      <td>9439</td>\n",
       "      <td>102</td>\n",
       "    </tr>\n",
       "    <tr>\n",
       "      <th>144</th>\n",
       "      <td>Nauru</td>\n",
       "      <td>Oceania</td>\n",
       "      <td>13287</td>\n",
       "      <td>21</td>\n",
       "    </tr>\n",
       "    <tr>\n",
       "      <th>171</th>\n",
       "      <td>Saint Helena</td>\n",
       "      <td>Africa</td>\n",
       "      <td>7502</td>\n",
       "      <td>413</td>\n",
       "    </tr>\n",
       "    <tr>\n",
       "      <th>174</th>\n",
       "      <td>St Pierre &amp; Miquelon</td>\n",
       "      <td>North America</td>\n",
       "      <td>7026</td>\n",
       "      <td>242</td>\n",
       "    </tr>\n",
       "    <tr>\n",
       "      <th>209</th>\n",
       "      <td>Tuvalu</td>\n",
       "      <td>Oceania</td>\n",
       "      <td>11810</td>\n",
       "      <td>26</td>\n",
       "    </tr>\n",
       "    <tr>\n",
       "      <th>221</th>\n",
       "      <td>Wallis and Futuna</td>\n",
       "      <td>Oceania</td>\n",
       "      <td>16025</td>\n",
       "      <td>274</td>\n",
       "    </tr>\n",
       "  </tbody>\n",
       "</table>\n",
       "</div>"
      ],
      "text/plain": [
       "                  Country      Continent  Population  Area\n",
       "6                Anguilla  South America       13477   102\n",
       "140            Montserrat  South America        9439   102\n",
       "144                 Nauru        Oceania       13287    21\n",
       "171          Saint Helena         Africa        7502   413\n",
       "174  St Pierre & Miquelon  North America        7026   242\n",
       "209                Tuvalu        Oceania       11810    26\n",
       "221     Wallis and Futuna        Oceania       16025   274"
      ]
     },
     "execution_count": 11,
     "metadata": {},
     "output_type": "execute_result"
    }
   ],
   "source": [
    "dt[dt['Population']<20000]"
   ]
  },
  {
   "cell_type": "markdown",
   "id": "6ae179fb-59e8-404d-9820-ee3eb1b732c2",
   "metadata": {},
   "source": [
    "## Статистички и графички приказ табеларних података"
   ]
  },
  {
   "cell_type": "markdown",
   "id": "663976e8-2df5-49fa-b52e-c5b6c1995124",
   "metadata": {},
   "source": [
    "У табели типа _dataframe_ можемо да имамо различите типове података. Битно је само да су у једној колони сви подаци истог типа. Два најважнија типа података, заправо групе типова су номинални (или категоријални) и нумерички подаци. Номинални подаци означавају нека имена, називе или кратке текстуалне описе. Имена држава представљају номиналне податке. Са тим бројевима се ништа не рачуна. Већина номиналних података су стрингови који означавају различите објекте. Једина статистика коју можемо да радимо са номиналним подацима јесте да пребројимо колико их има, тј. да видимо колико се често појављују."
   ]
  },
  {
   "cell_type": "markdown",
   "id": "58ad3031-edb8-4a45-a56d-07eb4b473738",
   "metadata": {},
   "source": [
    "У табели `dt` имамо колону са именом континента на ком се држава налази. Ако бисмо пребројали колико се пута појављују ови подаци, видели бисмо колико држава имамо на ком континенту. Библиотека _pandas_ нам омогућава да то радимо помоћу функције `.value_counts()` коју применимо на одговарајућу колону."
   ]
  },
  {
   "cell_type": "code",
   "execution_count": 12,
   "id": "63613eb5-8462-428a-a339-b24590d39a91",
   "metadata": {},
   "outputs": [
    {
     "name": "stdout",
     "output_type": "stream",
     "text": [
      "Africa           57\n",
      "Asia             52\n",
      "Europe           47\n",
      "South America    45\n",
      "Oceania          21\n",
      "North America     5\n",
      "Name: Continent, dtype: int64\n"
     ]
    }
   ],
   "source": [
    "vc=dt['Continent'].value_counts()\n",
    "print(vc)"
   ]
  },
  {
   "cell_type": "markdown",
   "id": "fd75fb52-9284-4342-8971-153da01b3773",
   "metadata": {},
   "source": [
    "Нумеричке вредности могу да се пореде међусобно по величини. Са бројевима могу да се раде и рачунске операције. Због тога су могућности за обраду и анализу нумеричких низова много веће него за номиналне. Наш основни задатак је да цео низ података што једноставније и разумљивије представимо. Низ података често поједностављено приказујемо помоћу карактеристичних вредности, као што је нпр. средња вредност. Други важан начин је да цео низ података прикажемо графички како бисмо податке могли да \"видимо\".  "
   ]
  },
  {
   "cell_type": "markdown",
   "id": "5ecafb68-083f-4ce1-9a32-abd34082b5b1",
   "metadata": {},
   "source": [
    "### Описивање низова података преко карактеристичних вредности"
   ]
  },
  {
   "cell_type": "markdown",
   "id": "a09cbd65-359e-49c7-ad8d-3b4ea20c19f4",
   "metadata": {},
   "source": [
    "За рачунање средње вредности се користи _pandas_ функција `.mean()` која се примењује на нумеричку колону у табели. Користећи табелу са подацима о државама израчунаћемо средњу вредност површина држава."
   ]
  },
  {
   "cell_type": "code",
   "execution_count": 13,
   "id": "6e1b6f6f-ad3f-490f-a53b-3e4d73c71899",
   "metadata": {},
   "outputs": [
    {
     "data": {
      "text/plain": [
       "598226.9559471365"
      ]
     },
     "execution_count": 13,
     "metadata": {},
     "output_type": "execute_result"
    }
   ],
   "source": [
    "dt['Area'].mean()"
   ]
  },
  {
   "cell_type": "markdown",
   "id": "15334186-8c7d-490b-84aa-cc2c2d275158",
   "metadata": {},
   "source": [
    "Средња вредност површина свих држава је приближно 598 000 km². Толика би била површина сваке појединачне државе на свету када би територија била равномерно распоређена. Ми, међутим, знамо да постоје минијатурне државе са по неколико квадратних километра, док са друге стране имамо Русију са 17 милиона km². Колика је површина типичне државе на овој планети? То ће нам боље показати медијана него средња вредност."
   ]
  },
  {
   "cell_type": "markdown",
   "id": "d63ff408-3dd1-4925-a6a8-aaf517c172a9",
   "metadata": {},
   "source": [
    "> __Медијана__ је математичка функција која нам даје средишњу вредност за низ који је сортиран по величини. Она дели низ на два дела са истим бројем елемената. Ако низ, на пример, садржи висине 101 ученика, медијана нам даје висину 51. највишег ученика. Од њега има 50 виших и 50 нижих, док је он у самој средини. Ако имамо паран број ученика, онда нема ученика који је баш у средини па се медијана рачуна мало другачије: као средња вредност висине првог елемента испод и првог изнад те средине. То значи да је медијана низа од 100 бројева, средња вредност 50. и 51. највеће вредности овог низа. "
   ]
  },
  {
   "cell_type": "code",
   "execution_count": 14,
   "id": "1018ed2a-34cb-402a-a7cd-025d33751659",
   "metadata": {},
   "outputs": [
    {
     "data": {
      "text/plain": [
       "86600.0"
      ]
     },
     "execution_count": 14,
     "metadata": {},
     "output_type": "execute_result"
    }
   ],
   "source": [
    "dt['Area'].median()"
   ]
  },
  {
   "cell_type": "markdown",
   "id": "bc6f2b4d-0c1b-4e05-886d-f240647fd3b0",
   "metadata": {},
   "source": [
    "Уочите колика је разлика између средње вредности и медијане за површине држава. Средња вредност је битно већа код свих низова података где има много малих и мало великих вредности. Слично бисмо добили и за број становника."
   ]
  },
  {
   "cell_type": "markdown",
   "id": "81b3a0b1-d8f9-4998-80dc-f9372602fd0b",
   "metadata": {},
   "source": [
    "Погледајте хистограм површине по државама. Највише је оних малих које видимо као врло висок стубић са леве стране, док су са десне само појединачни случајеви врло ретких великих држава. Не улазећи даље у тумачење података, хоћемо само да покажемо колико средња вредност и медијана могу да се разликују. На графикону доле, црвеном линијом је обележена медијана, а наранџастом средња вредност. Пробајте сами да откријете шта ради која линија у програму."
   ]
  },
  {
   "cell_type": "code",
   "execution_count": 15,
   "id": "fad7bf90-028e-4e3c-92f0-a3fbe45d2206",
   "metadata": {},
   "outputs": [
    {
     "data": {
      "image/png": "[encoded data removed]",
      "text/plain": [
       "<Figure size 432x288 with 1 Axes>"
      ]
     },
     "metadata": {
      "needs_background": "light"
     },
     "output_type": "display_data"
    }
   ],
   "source": [
    "mArea=dt['Area'].mean()\n",
    "mdArea=dt['Area'].median()\n",
    "plt.hist(dt['Area'],40,range=(0,2e6))\n",
    "plt.grid()\n",
    "plt.vlines(mArea,0,100,colors='orange')\n",
    "plt.vlines(mdArea,0,100,colors='red');"
   ]
  },
  {
   "cell_type": "markdown",
   "id": "2343acec-3f82-4f02-ad6c-27cb8e95d539",
   "metadata": {},
   "source": [
    "__Задатак 1__: Одредите средњу вредност и медијану за број становника држава света."
   ]
  },
  {
   "cell_type": "markdown",
   "id": "d4a20e7c-9ce3-4be1-8300-43cf1b7e0feb",
   "metadata": {},
   "source": [
    "__Задатак 2__: Нацртајте хистограм броја становника по државама света. "
   ]
  },
  {
   "cell_type": "markdown",
   "id": "100eadd1-8d62-4ea8-8b74-bc12bad9b76f",
   "metadata": {},
   "source": [
    "__Задатак 3__: Нацртајте хистограм броја становника по државама Европе. "
   ]
  }
 ],
 "metadata": {
  "kernelspec": {
   "display_name": "Python 3",
   "language": "python",
   "name": "python3"
  },
  "language_info": {
   "codemirror_mode": {
    "name": "ipython",
    "version": 3
   },
   "file_extension": ".py",
   "mimetype": "text/x-python",
   "name": "python",
   "nbconvert_exporter": "python",
   "pygments_lexer": "ipython3",
   "version": "3.9.1"
  }
 },
 "nbformat": 4,
 "nbformat_minor": 5
}
